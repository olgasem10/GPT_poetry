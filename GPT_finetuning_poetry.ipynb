{
  "nbformat": 4,
  "nbformat_minor": 0,
  "metadata": {
    "accelerator": "GPU",
    "colab": {
      "name": "GPT finetuning poetry.ipynb",
      "provenance": [],
      "collapsed_sections": [],
      "include_colab_link": true
    },
    "kernelspec": {
      "display_name": "Python 3",
      "name": "python3"
    },
    "widgets": {
      "application/vnd.jupyter.widget-state+json": {
        "300cd3b56a9e4a55861a3010d195c677": {
          "model_module": "@jupyter-widgets/controls",
          "model_name": "HBoxModel",
          "state": {
            "_view_name": "HBoxView",
            "_dom_classes": [],
            "_model_name": "HBoxModel",
            "_view_module": "@jupyter-widgets/controls",
            "_model_module_version": "1.5.0",
            "_view_count": null,
            "_view_module_version": "1.5.0",
            "box_style": "",
            "layout": "IPY_MODEL_cb03f1eb63f94f58b4d6785f68c49779",
            "_model_module": "@jupyter-widgets/controls",
            "children": [
              "IPY_MODEL_b4229c4105bc4add85ff2f941023baa4",
              "IPY_MODEL_18f83dcde7fc462eb3c59129c3fc8d4a"
            ]
          }
        },
        "cb03f1eb63f94f58b4d6785f68c49779": {
          "model_module": "@jupyter-widgets/base",
          "model_name": "LayoutModel",
          "state": {
            "_view_name": "LayoutView",
            "grid_template_rows": null,
            "right": null,
            "justify_content": null,
            "_view_module": "@jupyter-widgets/base",
            "overflow": null,
            "_model_module_version": "1.2.0",
            "_view_count": null,
            "flex_flow": null,
            "width": null,
            "min_width": null,
            "border": null,
            "align_items": null,
            "bottom": null,
            "_model_module": "@jupyter-widgets/base",
            "top": null,
            "grid_column": null,
            "overflow_y": null,
            "overflow_x": null,
            "grid_auto_flow": null,
            "grid_area": null,
            "grid_template_columns": null,
            "flex": null,
            "_model_name": "LayoutModel",
            "justify_items": null,
            "grid_row": null,
            "max_height": null,
            "align_content": null,
            "visibility": null,
            "align_self": null,
            "height": null,
            "min_height": null,
            "padding": null,
            "grid_auto_rows": null,
            "grid_gap": null,
            "max_width": null,
            "order": null,
            "_view_module_version": "1.2.0",
            "grid_template_areas": null,
            "object_position": null,
            "object_fit": null,
            "grid_auto_columns": null,
            "margin": null,
            "display": null,
            "left": null
          }
        },
        "b4229c4105bc4add85ff2f941023baa4": {
          "model_module": "@jupyter-widgets/controls",
          "model_name": "FloatProgressModel",
          "state": {
            "_view_name": "ProgressView",
            "style": "IPY_MODEL_9cc42bc5c14a4986903d831f05e996a9",
            "_dom_classes": [],
            "description": "Downloading: 100%",
            "_model_name": "FloatProgressModel",
            "bar_style": "success",
            "max": 608,
            "_view_module": "@jupyter-widgets/controls",
            "_model_module_version": "1.5.0",
            "value": 608,
            "_view_count": null,
            "_view_module_version": "1.5.0",
            "orientation": "horizontal",
            "min": 0,
            "description_tooltip": null,
            "_model_module": "@jupyter-widgets/controls",
            "layout": "IPY_MODEL_3410dfb533da49958ec3c80117752ff5"
          }
        },
        "18f83dcde7fc462eb3c59129c3fc8d4a": {
          "model_module": "@jupyter-widgets/controls",
          "model_name": "HTMLModel",
          "state": {
            "_view_name": "HTMLView",
            "style": "IPY_MODEL_65031c16d7c74fc79457d68948107356",
            "_dom_classes": [],
            "description": "",
            "_model_name": "HTMLModel",
            "placeholder": "​",
            "_view_module": "@jupyter-widgets/controls",
            "_model_module_version": "1.5.0",
            "value": " 608/608 [00:00&lt;00:00, 2.43kB/s]",
            "_view_count": null,
            "_view_module_version": "1.5.0",
            "description_tooltip": null,
            "_model_module": "@jupyter-widgets/controls",
            "layout": "IPY_MODEL_6e51d2c41f2142d09999f815bca94266"
          }
        },
        "9cc42bc5c14a4986903d831f05e996a9": {
          "model_module": "@jupyter-widgets/controls",
          "model_name": "ProgressStyleModel",
          "state": {
            "_view_name": "StyleView",
            "_model_name": "ProgressStyleModel",
            "description_width": "initial",
            "_view_module": "@jupyter-widgets/base",
            "_model_module_version": "1.5.0",
            "_view_count": null,
            "_view_module_version": "1.2.0",
            "bar_color": null,
            "_model_module": "@jupyter-widgets/controls"
          }
        },
        "3410dfb533da49958ec3c80117752ff5": {
          "model_module": "@jupyter-widgets/base",
          "model_name": "LayoutModel",
          "state": {
            "_view_name": "LayoutView",
            "grid_template_rows": null,
            "right": null,
            "justify_content": null,
            "_view_module": "@jupyter-widgets/base",
            "overflow": null,
            "_model_module_version": "1.2.0",
            "_view_count": null,
            "flex_flow": null,
            "width": null,
            "min_width": null,
            "border": null,
            "align_items": null,
            "bottom": null,
            "_model_module": "@jupyter-widgets/base",
            "top": null,
            "grid_column": null,
            "overflow_y": null,
            "overflow_x": null,
            "grid_auto_flow": null,
            "grid_area": null,
            "grid_template_columns": null,
            "flex": null,
            "_model_name": "LayoutModel",
            "justify_items": null,
            "grid_row": null,
            "max_height": null,
            "align_content": null,
            "visibility": null,
            "align_self": null,
            "height": null,
            "min_height": null,
            "padding": null,
            "grid_auto_rows": null,
            "grid_gap": null,
            "max_width": null,
            "order": null,
            "_view_module_version": "1.2.0",
            "grid_template_areas": null,
            "object_position": null,
            "object_fit": null,
            "grid_auto_columns": null,
            "margin": null,
            "display": null,
            "left": null
          }
        },
        "65031c16d7c74fc79457d68948107356": {
          "model_module": "@jupyter-widgets/controls",
          "model_name": "DescriptionStyleModel",
          "state": {
            "_view_name": "StyleView",
            "_model_name": "DescriptionStyleModel",
            "description_width": "",
            "_view_module": "@jupyter-widgets/base",
            "_model_module_version": "1.5.0",
            "_view_count": null,
            "_view_module_version": "1.2.0",
            "_model_module": "@jupyter-widgets/controls"
          }
        },
        "6e51d2c41f2142d09999f815bca94266": {
          "model_module": "@jupyter-widgets/base",
          "model_name": "LayoutModel",
          "state": {
            "_view_name": "LayoutView",
            "grid_template_rows": null,
            "right": null,
            "justify_content": null,
            "_view_module": "@jupyter-widgets/base",
            "overflow": null,
            "_model_module_version": "1.2.0",
            "_view_count": null,
            "flex_flow": null,
            "width": null,
            "min_width": null,
            "border": null,
            "align_items": null,
            "bottom": null,
            "_model_module": "@jupyter-widgets/base",
            "top": null,
            "grid_column": null,
            "overflow_y": null,
            "overflow_x": null,
            "grid_auto_flow": null,
            "grid_area": null,
            "grid_template_columns": null,
            "flex": null,
            "_model_name": "LayoutModel",
            "justify_items": null,
            "grid_row": null,
            "max_height": null,
            "align_content": null,
            "visibility": null,
            "align_self": null,
            "height": null,
            "min_height": null,
            "padding": null,
            "grid_auto_rows": null,
            "grid_gap": null,
            "max_width": null,
            "order": null,
            "_view_module_version": "1.2.0",
            "grid_template_areas": null,
            "object_position": null,
            "object_fit": null,
            "grid_auto_columns": null,
            "margin": null,
            "display": null,
            "left": null
          }
        },
        "1cca49f501ff496ba712acb5ecf21e72": {
          "model_module": "@jupyter-widgets/controls",
          "model_name": "HBoxModel",
          "state": {
            "_view_name": "HBoxView",
            "_dom_classes": [],
            "_model_name": "HBoxModel",
            "_view_module": "@jupyter-widgets/controls",
            "_model_module_version": "1.5.0",
            "_view_count": null,
            "_view_module_version": "1.5.0",
            "box_style": "",
            "layout": "IPY_MODEL_4e48104a1390447dbf99c3f3191161dd",
            "_model_module": "@jupyter-widgets/controls",
            "children": [
              "IPY_MODEL_8d807b90a57743b797d13863406040b0",
              "IPY_MODEL_44b4f6945f644c4fa04ade2b6e002822"
            ]
          }
        },
        "4e48104a1390447dbf99c3f3191161dd": {
          "model_module": "@jupyter-widgets/base",
          "model_name": "LayoutModel",
          "state": {
            "_view_name": "LayoutView",
            "grid_template_rows": null,
            "right": null,
            "justify_content": null,
            "_view_module": "@jupyter-widgets/base",
            "overflow": null,
            "_model_module_version": "1.2.0",
            "_view_count": null,
            "flex_flow": null,
            "width": null,
            "min_width": null,
            "border": null,
            "align_items": null,
            "bottom": null,
            "_model_module": "@jupyter-widgets/base",
            "top": null,
            "grid_column": null,
            "overflow_y": null,
            "overflow_x": null,
            "grid_auto_flow": null,
            "grid_area": null,
            "grid_template_columns": null,
            "flex": null,
            "_model_name": "LayoutModel",
            "justify_items": null,
            "grid_row": null,
            "max_height": null,
            "align_content": null,
            "visibility": null,
            "align_self": null,
            "height": null,
            "min_height": null,
            "padding": null,
            "grid_auto_rows": null,
            "grid_gap": null,
            "max_width": null,
            "order": null,
            "_view_module_version": "1.2.0",
            "grid_template_areas": null,
            "object_position": null,
            "object_fit": null,
            "grid_auto_columns": null,
            "margin": null,
            "display": null,
            "left": null
          }
        },
        "8d807b90a57743b797d13863406040b0": {
          "model_module": "@jupyter-widgets/controls",
          "model_name": "FloatProgressModel",
          "state": {
            "_view_name": "ProgressView",
            "style": "IPY_MODEL_981f6e3c5d704705b86679fa03a3bb54",
            "_dom_classes": [],
            "description": "Downloading: 100%",
            "_model_name": "FloatProgressModel",
            "bar_style": "success",
            "max": 551290714,
            "_view_module": "@jupyter-widgets/controls",
            "_model_module_version": "1.5.0",
            "value": 551290714,
            "_view_count": null,
            "_view_module_version": "1.5.0",
            "orientation": "horizontal",
            "min": 0,
            "description_tooltip": null,
            "_model_module": "@jupyter-widgets/controls",
            "layout": "IPY_MODEL_613a903d0eec44779e370da41fde27fb"
          }
        },
        "44b4f6945f644c4fa04ade2b6e002822": {
          "model_module": "@jupyter-widgets/controls",
          "model_name": "HTMLModel",
          "state": {
            "_view_name": "HTMLView",
            "style": "IPY_MODEL_14e5a6bc50094aedbb96f80b618dc6ab",
            "_dom_classes": [],
            "description": "",
            "_model_name": "HTMLModel",
            "placeholder": "​",
            "_view_module": "@jupyter-widgets/controls",
            "_model_module_version": "1.5.0",
            "value": " 551M/551M [00:25&lt;00:00, 21.8MB/s]",
            "_view_count": null,
            "_view_module_version": "1.5.0",
            "description_tooltip": null,
            "_model_module": "@jupyter-widgets/controls",
            "layout": "IPY_MODEL_5513cb6a39724940a52d102f26d14b49"
          }
        },
        "981f6e3c5d704705b86679fa03a3bb54": {
          "model_module": "@jupyter-widgets/controls",
          "model_name": "ProgressStyleModel",
          "state": {
            "_view_name": "StyleView",
            "_model_name": "ProgressStyleModel",
            "description_width": "initial",
            "_view_module": "@jupyter-widgets/base",
            "_model_module_version": "1.5.0",
            "_view_count": null,
            "_view_module_version": "1.2.0",
            "bar_color": null,
            "_model_module": "@jupyter-widgets/controls"
          }
        },
        "613a903d0eec44779e370da41fde27fb": {
          "model_module": "@jupyter-widgets/base",
          "model_name": "LayoutModel",
          "state": {
            "_view_name": "LayoutView",
            "grid_template_rows": null,
            "right": null,
            "justify_content": null,
            "_view_module": "@jupyter-widgets/base",
            "overflow": null,
            "_model_module_version": "1.2.0",
            "_view_count": null,
            "flex_flow": null,
            "width": null,
            "min_width": null,
            "border": null,
            "align_items": null,
            "bottom": null,
            "_model_module": "@jupyter-widgets/base",
            "top": null,
            "grid_column": null,
            "overflow_y": null,
            "overflow_x": null,
            "grid_auto_flow": null,
            "grid_area": null,
            "grid_template_columns": null,
            "flex": null,
            "_model_name": "LayoutModel",
            "justify_items": null,
            "grid_row": null,
            "max_height": null,
            "align_content": null,
            "visibility": null,
            "align_self": null,
            "height": null,
            "min_height": null,
            "padding": null,
            "grid_auto_rows": null,
            "grid_gap": null,
            "max_width": null,
            "order": null,
            "_view_module_version": "1.2.0",
            "grid_template_areas": null,
            "object_position": null,
            "object_fit": null,
            "grid_auto_columns": null,
            "margin": null,
            "display": null,
            "left": null
          }
        },
        "14e5a6bc50094aedbb96f80b618dc6ab": {
          "model_module": "@jupyter-widgets/controls",
          "model_name": "DescriptionStyleModel",
          "state": {
            "_view_name": "StyleView",
            "_model_name": "DescriptionStyleModel",
            "description_width": "",
            "_view_module": "@jupyter-widgets/base",
            "_model_module_version": "1.5.0",
            "_view_count": null,
            "_view_module_version": "1.2.0",
            "_model_module": "@jupyter-widgets/controls"
          }
        },
        "5513cb6a39724940a52d102f26d14b49": {
          "model_module": "@jupyter-widgets/base",
          "model_name": "LayoutModel",
          "state": {
            "_view_name": "LayoutView",
            "grid_template_rows": null,
            "right": null,
            "justify_content": null,
            "_view_module": "@jupyter-widgets/base",
            "overflow": null,
            "_model_module_version": "1.2.0",
            "_view_count": null,
            "flex_flow": null,
            "width": null,
            "min_width": null,
            "border": null,
            "align_items": null,
            "bottom": null,
            "_model_module": "@jupyter-widgets/base",
            "top": null,
            "grid_column": null,
            "overflow_y": null,
            "overflow_x": null,
            "grid_auto_flow": null,
            "grid_area": null,
            "grid_template_columns": null,
            "flex": null,
            "_model_name": "LayoutModel",
            "justify_items": null,
            "grid_row": null,
            "max_height": null,
            "align_content": null,
            "visibility": null,
            "align_self": null,
            "height": null,
            "min_height": null,
            "padding": null,
            "grid_auto_rows": null,
            "grid_gap": null,
            "max_width": null,
            "order": null,
            "_view_module_version": "1.2.0",
            "grid_template_areas": null,
            "object_position": null,
            "object_fit": null,
            "grid_auto_columns": null,
            "margin": null,
            "display": null,
            "left": null
          }
        },
        "b631afba533e4e23a9671a4aa6a4c3b3": {
          "model_module": "@jupyter-widgets/controls",
          "model_name": "HBoxModel",
          "state": {
            "_view_name": "HBoxView",
            "_dom_classes": [],
            "_model_name": "HBoxModel",
            "_view_module": "@jupyter-widgets/controls",
            "_model_module_version": "1.5.0",
            "_view_count": null,
            "_view_module_version": "1.5.0",
            "box_style": "",
            "layout": "IPY_MODEL_bca5f545cca24ad3b8badd080a65eaa2",
            "_model_module": "@jupyter-widgets/controls",
            "children": [
              "IPY_MODEL_06c82f1e05d44099aec923d19e505f7a",
              "IPY_MODEL_4b5bab4e78ac4d5fba657bae6c742d56"
            ]
          }
        },
        "bca5f545cca24ad3b8badd080a65eaa2": {
          "model_module": "@jupyter-widgets/base",
          "model_name": "LayoutModel",
          "state": {
            "_view_name": "LayoutView",
            "grid_template_rows": null,
            "right": null,
            "justify_content": null,
            "_view_module": "@jupyter-widgets/base",
            "overflow": null,
            "_model_module_version": "1.2.0",
            "_view_count": null,
            "flex_flow": null,
            "width": null,
            "min_width": null,
            "border": null,
            "align_items": null,
            "bottom": null,
            "_model_module": "@jupyter-widgets/base",
            "top": null,
            "grid_column": null,
            "overflow_y": null,
            "overflow_x": null,
            "grid_auto_flow": null,
            "grid_area": null,
            "grid_template_columns": null,
            "flex": null,
            "_model_name": "LayoutModel",
            "justify_items": null,
            "grid_row": null,
            "max_height": null,
            "align_content": null,
            "visibility": null,
            "align_self": null,
            "height": null,
            "min_height": null,
            "padding": null,
            "grid_auto_rows": null,
            "grid_gap": null,
            "max_width": null,
            "order": null,
            "_view_module_version": "1.2.0",
            "grid_template_areas": null,
            "object_position": null,
            "object_fit": null,
            "grid_auto_columns": null,
            "margin": null,
            "display": null,
            "left": null
          }
        },
        "06c82f1e05d44099aec923d19e505f7a": {
          "model_module": "@jupyter-widgets/controls",
          "model_name": "FloatProgressModel",
          "state": {
            "_view_name": "ProgressView",
            "style": "IPY_MODEL_1060a7d3eb6a4f47a92e0fc33ca89135",
            "_dom_classes": [],
            "description": "Downloading: 100%",
            "_model_name": "FloatProgressModel",
            "bar_style": "success",
            "max": 1713123,
            "_view_module": "@jupyter-widgets/controls",
            "_model_module_version": "1.5.0",
            "value": 1713123,
            "_view_count": null,
            "_view_module_version": "1.5.0",
            "orientation": "horizontal",
            "min": 0,
            "description_tooltip": null,
            "_model_module": "@jupyter-widgets/controls",
            "layout": "IPY_MODEL_7b5778c0ae154cfb8bb33ea3833f8e6c"
          }
        },
        "4b5bab4e78ac4d5fba657bae6c742d56": {
          "model_module": "@jupyter-widgets/controls",
          "model_name": "HTMLModel",
          "state": {
            "_view_name": "HTMLView",
            "style": "IPY_MODEL_4d5ead53e37c4118b3894cd4f8333389",
            "_dom_classes": [],
            "description": "",
            "_model_name": "HTMLModel",
            "placeholder": "​",
            "_view_module": "@jupyter-widgets/controls",
            "_model_module_version": "1.5.0",
            "value": " 1.71M/1.71M [00:02&lt;00:00, 797kB/s]",
            "_view_count": null,
            "_view_module_version": "1.5.0",
            "description_tooltip": null,
            "_model_module": "@jupyter-widgets/controls",
            "layout": "IPY_MODEL_27c202ff6f024d0db235b20707d68d50"
          }
        },
        "1060a7d3eb6a4f47a92e0fc33ca89135": {
          "model_module": "@jupyter-widgets/controls",
          "model_name": "ProgressStyleModel",
          "state": {
            "_view_name": "StyleView",
            "_model_name": "ProgressStyleModel",
            "description_width": "initial",
            "_view_module": "@jupyter-widgets/base",
            "_model_module_version": "1.5.0",
            "_view_count": null,
            "_view_module_version": "1.2.0",
            "bar_color": null,
            "_model_module": "@jupyter-widgets/controls"
          }
        },
        "7b5778c0ae154cfb8bb33ea3833f8e6c": {
          "model_module": "@jupyter-widgets/base",
          "model_name": "LayoutModel",
          "state": {
            "_view_name": "LayoutView",
            "grid_template_rows": null,
            "right": null,
            "justify_content": null,
            "_view_module": "@jupyter-widgets/base",
            "overflow": null,
            "_model_module_version": "1.2.0",
            "_view_count": null,
            "flex_flow": null,
            "width": null,
            "min_width": null,
            "border": null,
            "align_items": null,
            "bottom": null,
            "_model_module": "@jupyter-widgets/base",
            "top": null,
            "grid_column": null,
            "overflow_y": null,
            "overflow_x": null,
            "grid_auto_flow": null,
            "grid_area": null,
            "grid_template_columns": null,
            "flex": null,
            "_model_name": "LayoutModel",
            "justify_items": null,
            "grid_row": null,
            "max_height": null,
            "align_content": null,
            "visibility": null,
            "align_self": null,
            "height": null,
            "min_height": null,
            "padding": null,
            "grid_auto_rows": null,
            "grid_gap": null,
            "max_width": null,
            "order": null,
            "_view_module_version": "1.2.0",
            "grid_template_areas": null,
            "object_position": null,
            "object_fit": null,
            "grid_auto_columns": null,
            "margin": null,
            "display": null,
            "left": null
          }
        },
        "4d5ead53e37c4118b3894cd4f8333389": {
          "model_module": "@jupyter-widgets/controls",
          "model_name": "DescriptionStyleModel",
          "state": {
            "_view_name": "StyleView",
            "_model_name": "DescriptionStyleModel",
            "description_width": "",
            "_view_module": "@jupyter-widgets/base",
            "_model_module_version": "1.5.0",
            "_view_count": null,
            "_view_module_version": "1.2.0",
            "_model_module": "@jupyter-widgets/controls"
          }
        },
        "27c202ff6f024d0db235b20707d68d50": {
          "model_module": "@jupyter-widgets/base",
          "model_name": "LayoutModel",
          "state": {
            "_view_name": "LayoutView",
            "grid_template_rows": null,
            "right": null,
            "justify_content": null,
            "_view_module": "@jupyter-widgets/base",
            "overflow": null,
            "_model_module_version": "1.2.0",
            "_view_count": null,
            "flex_flow": null,
            "width": null,
            "min_width": null,
            "border": null,
            "align_items": null,
            "bottom": null,
            "_model_module": "@jupyter-widgets/base",
            "top": null,
            "grid_column": null,
            "overflow_y": null,
            "overflow_x": null,
            "grid_auto_flow": null,
            "grid_area": null,
            "grid_template_columns": null,
            "flex": null,
            "_model_name": "LayoutModel",
            "justify_items": null,
            "grid_row": null,
            "max_height": null,
            "align_content": null,
            "visibility": null,
            "align_self": null,
            "height": null,
            "min_height": null,
            "padding": null,
            "grid_auto_rows": null,
            "grid_gap": null,
            "max_width": null,
            "order": null,
            "_view_module_version": "1.2.0",
            "grid_template_areas": null,
            "object_position": null,
            "object_fit": null,
            "grid_auto_columns": null,
            "margin": null,
            "display": null,
            "left": null
          }
        },
        "a351b1e9c49b4f42a69bcbb582e79293": {
          "model_module": "@jupyter-widgets/controls",
          "model_name": "HBoxModel",
          "state": {
            "_view_name": "HBoxView",
            "_dom_classes": [],
            "_model_name": "HBoxModel",
            "_view_module": "@jupyter-widgets/controls",
            "_model_module_version": "1.5.0",
            "_view_count": null,
            "_view_module_version": "1.5.0",
            "box_style": "",
            "layout": "IPY_MODEL_9cfc709573bd4df3b8e44a4cb18216dc",
            "_model_module": "@jupyter-widgets/controls",
            "children": [
              "IPY_MODEL_a46b9abe56ac4756b1199571312d540c",
              "IPY_MODEL_fee854dd50cf4ef58a4db08c1df327c3"
            ]
          }
        },
        "9cfc709573bd4df3b8e44a4cb18216dc": {
          "model_module": "@jupyter-widgets/base",
          "model_name": "LayoutModel",
          "state": {
            "_view_name": "LayoutView",
            "grid_template_rows": null,
            "right": null,
            "justify_content": null,
            "_view_module": "@jupyter-widgets/base",
            "overflow": null,
            "_model_module_version": "1.2.0",
            "_view_count": null,
            "flex_flow": null,
            "width": null,
            "min_width": null,
            "border": null,
            "align_items": null,
            "bottom": null,
            "_model_module": "@jupyter-widgets/base",
            "top": null,
            "grid_column": null,
            "overflow_y": null,
            "overflow_x": null,
            "grid_auto_flow": null,
            "grid_area": null,
            "grid_template_columns": null,
            "flex": null,
            "_model_name": "LayoutModel",
            "justify_items": null,
            "grid_row": null,
            "max_height": null,
            "align_content": null,
            "visibility": null,
            "align_self": null,
            "height": null,
            "min_height": null,
            "padding": null,
            "grid_auto_rows": null,
            "grid_gap": null,
            "max_width": null,
            "order": null,
            "_view_module_version": "1.2.0",
            "grid_template_areas": null,
            "object_position": null,
            "object_fit": null,
            "grid_auto_columns": null,
            "margin": null,
            "display": null,
            "left": null
          }
        },
        "a46b9abe56ac4756b1199571312d540c": {
          "model_module": "@jupyter-widgets/controls",
          "model_name": "FloatProgressModel",
          "state": {
            "_view_name": "ProgressView",
            "style": "IPY_MODEL_cc901ea476af412c9887469b280729e3",
            "_dom_classes": [],
            "description": "Downloading: 100%",
            "_model_name": "FloatProgressModel",
            "bar_style": "success",
            "max": 1270925,
            "_view_module": "@jupyter-widgets/controls",
            "_model_module_version": "1.5.0",
            "value": 1270925,
            "_view_count": null,
            "_view_module_version": "1.5.0",
            "orientation": "horizontal",
            "min": 0,
            "description_tooltip": null,
            "_model_module": "@jupyter-widgets/controls",
            "layout": "IPY_MODEL_da495d0eb8ed4879aec9e7d220f5dad3"
          }
        },
        "fee854dd50cf4ef58a4db08c1df327c3": {
          "model_module": "@jupyter-widgets/controls",
          "model_name": "HTMLModel",
          "state": {
            "_view_name": "HTMLView",
            "style": "IPY_MODEL_711fe96eb06a4dd3be72089f39a5f6be",
            "_dom_classes": [],
            "description": "",
            "_model_name": "HTMLModel",
            "placeholder": "​",
            "_view_module": "@jupyter-widgets/controls",
            "_model_module_version": "1.5.0",
            "value": " 1.27M/1.27M [00:01&lt;00:00, 991kB/s]",
            "_view_count": null,
            "_view_module_version": "1.5.0",
            "description_tooltip": null,
            "_model_module": "@jupyter-widgets/controls",
            "layout": "IPY_MODEL_597b1623d7c34536b36ae599193f7791"
          }
        },
        "cc901ea476af412c9887469b280729e3": {
          "model_module": "@jupyter-widgets/controls",
          "model_name": "ProgressStyleModel",
          "state": {
            "_view_name": "StyleView",
            "_model_name": "ProgressStyleModel",
            "description_width": "initial",
            "_view_module": "@jupyter-widgets/base",
            "_model_module_version": "1.5.0",
            "_view_count": null,
            "_view_module_version": "1.2.0",
            "bar_color": null,
            "_model_module": "@jupyter-widgets/controls"
          }
        },
        "da495d0eb8ed4879aec9e7d220f5dad3": {
          "model_module": "@jupyter-widgets/base",
          "model_name": "LayoutModel",
          "state": {
            "_view_name": "LayoutView",
            "grid_template_rows": null,
            "right": null,
            "justify_content": null,
            "_view_module": "@jupyter-widgets/base",
            "overflow": null,
            "_model_module_version": "1.2.0",
            "_view_count": null,
            "flex_flow": null,
            "width": null,
            "min_width": null,
            "border": null,
            "align_items": null,
            "bottom": null,
            "_model_module": "@jupyter-widgets/base",
            "top": null,
            "grid_column": null,
            "overflow_y": null,
            "overflow_x": null,
            "grid_auto_flow": null,
            "grid_area": null,
            "grid_template_columns": null,
            "flex": null,
            "_model_name": "LayoutModel",
            "justify_items": null,
            "grid_row": null,
            "max_height": null,
            "align_content": null,
            "visibility": null,
            "align_self": null,
            "height": null,
            "min_height": null,
            "padding": null,
            "grid_auto_rows": null,
            "grid_gap": null,
            "max_width": null,
            "order": null,
            "_view_module_version": "1.2.0",
            "grid_template_areas": null,
            "object_position": null,
            "object_fit": null,
            "grid_auto_columns": null,
            "margin": null,
            "display": null,
            "left": null
          }
        },
        "711fe96eb06a4dd3be72089f39a5f6be": {
          "model_module": "@jupyter-widgets/controls",
          "model_name": "DescriptionStyleModel",
          "state": {
            "_view_name": "StyleView",
            "_model_name": "DescriptionStyleModel",
            "description_width": "",
            "_view_module": "@jupyter-widgets/base",
            "_model_module_version": "1.5.0",
            "_view_count": null,
            "_view_module_version": "1.2.0",
            "_model_module": "@jupyter-widgets/controls"
          }
        },
        "597b1623d7c34536b36ae599193f7791": {
          "model_module": "@jupyter-widgets/base",
          "model_name": "LayoutModel",
          "state": {
            "_view_name": "LayoutView",
            "grid_template_rows": null,
            "right": null,
            "justify_content": null,
            "_view_module": "@jupyter-widgets/base",
            "overflow": null,
            "_model_module_version": "1.2.0",
            "_view_count": null,
            "flex_flow": null,
            "width": null,
            "min_width": null,
            "border": null,
            "align_items": null,
            "bottom": null,
            "_model_module": "@jupyter-widgets/base",
            "top": null,
            "grid_column": null,
            "overflow_y": null,
            "overflow_x": null,
            "grid_auto_flow": null,
            "grid_area": null,
            "grid_template_columns": null,
            "flex": null,
            "_model_name": "LayoutModel",
            "justify_items": null,
            "grid_row": null,
            "max_height": null,
            "align_content": null,
            "visibility": null,
            "align_self": null,
            "height": null,
            "min_height": null,
            "padding": null,
            "grid_auto_rows": null,
            "grid_gap": null,
            "max_width": null,
            "order": null,
            "_view_module_version": "1.2.0",
            "grid_template_areas": null,
            "object_position": null,
            "object_fit": null,
            "grid_auto_columns": null,
            "margin": null,
            "display": null,
            "left": null
          }
        }
      }
    }
  },
  "cells": [
    {
      "cell_type": "markdown",
      "metadata": {
        "id": "view-in-github",
        "colab_type": "text"
      },
      "source": [
        "<a href=\"https://colab.research.google.com/github/olgasem10/GPT_poetry/blob/main/GPT_finetuning_poetry.ipynb\" target=\"_parent\"><img src=\"https://colab.research.google.com/assets/colab-badge.svg\" alt=\"Open In Colab\"/></a>"
      ]
    },
    {
      "cell_type": "code",
      "metadata": {
        "colab": {
          "base_uri": "https://localhost:8080/"
        },
        "id": "cR27pryUY0P4",
        "outputId": "f133bcd3-c10a-4016-e71e-cc2fa23eac96"
      },
      "source": [
        "!pip install transformers"
      ],
      "execution_count": 3,
      "outputs": [
        {
          "output_type": "stream",
          "text": [
            "Collecting transformers\n",
            "\u001b[?25l  Downloading https://files.pythonhosted.org/packages/50/0c/7d5950fcd80b029be0a8891727ba21e0cd27692c407c51261c3c921f6da3/transformers-4.1.1-py3-none-any.whl (1.5MB)\n",
            "\u001b[K     |████████████████████████████████| 1.5MB 7.8MB/s \n",
            "\u001b[?25hCollecting tokenizers==0.9.4\n",
            "\u001b[?25l  Downloading https://files.pythonhosted.org/packages/0f/1c/e789a8b12e28be5bc1ce2156cf87cb522b379be9cadc7ad8091a4cc107c4/tokenizers-0.9.4-cp36-cp36m-manylinux2010_x86_64.whl (2.9MB)\n",
            "\u001b[K     |████████████████████████████████| 2.9MB 14.8MB/s \n",
            "\u001b[?25hRequirement already satisfied: regex!=2019.12.17 in /usr/local/lib/python3.6/dist-packages (from transformers) (2019.12.20)\n",
            "Requirement already satisfied: filelock in /usr/local/lib/python3.6/dist-packages (from transformers) (3.0.12)\n",
            "Requirement already satisfied: tqdm>=4.27 in /usr/local/lib/python3.6/dist-packages (from transformers) (4.41.1)\n",
            "Collecting sacremoses\n",
            "\u001b[?25l  Downloading https://files.pythonhosted.org/packages/7d/34/09d19aff26edcc8eb2a01bed8e98f13a1537005d31e95233fd48216eed10/sacremoses-0.0.43.tar.gz (883kB)\n",
            "\u001b[K     |████████████████████████████████| 890kB 54.6MB/s \n",
            "\u001b[?25hRequirement already satisfied: packaging in /usr/local/lib/python3.6/dist-packages (from transformers) (20.8)\n",
            "Requirement already satisfied: dataclasses; python_version < \"3.7\" in /usr/local/lib/python3.6/dist-packages (from transformers) (0.8)\n",
            "Requirement already satisfied: requests in /usr/local/lib/python3.6/dist-packages (from transformers) (2.23.0)\n",
            "Requirement already satisfied: numpy in /usr/local/lib/python3.6/dist-packages (from transformers) (1.19.4)\n",
            "Requirement already satisfied: six in /usr/local/lib/python3.6/dist-packages (from sacremoses->transformers) (1.15.0)\n",
            "Requirement already satisfied: click in /usr/local/lib/python3.6/dist-packages (from sacremoses->transformers) (7.1.2)\n",
            "Requirement already satisfied: joblib in /usr/local/lib/python3.6/dist-packages (from sacremoses->transformers) (1.0.0)\n",
            "Requirement already satisfied: pyparsing>=2.0.2 in /usr/local/lib/python3.6/dist-packages (from packaging->transformers) (2.4.7)\n",
            "Requirement already satisfied: urllib3!=1.25.0,!=1.25.1,<1.26,>=1.21.1 in /usr/local/lib/python3.6/dist-packages (from requests->transformers) (1.24.3)\n",
            "Requirement already satisfied: idna<3,>=2.5 in /usr/local/lib/python3.6/dist-packages (from requests->transformers) (2.10)\n",
            "Requirement already satisfied: certifi>=2017.4.17 in /usr/local/lib/python3.6/dist-packages (from requests->transformers) (2020.12.5)\n",
            "Requirement already satisfied: chardet<4,>=3.0.2 in /usr/local/lib/python3.6/dist-packages (from requests->transformers) (3.0.4)\n",
            "Building wheels for collected packages: sacremoses\n",
            "  Building wheel for sacremoses (setup.py) ... \u001b[?25l\u001b[?25hdone\n",
            "  Created wheel for sacremoses: filename=sacremoses-0.0.43-cp36-none-any.whl size=893261 sha256=b3a03fbc247c0eded558294ea20ce1c28c5f1cb7859bd482f81e738bb44a33af\n",
            "  Stored in directory: /root/.cache/pip/wheels/29/3c/fd/7ce5c3f0666dab31a50123635e6fb5e19ceb42ce38d4e58f45\n",
            "Successfully built sacremoses\n",
            "Installing collected packages: tokenizers, sacremoses, transformers\n",
            "Successfully installed sacremoses-0.0.43 tokenizers-0.9.4 transformers-4.1.1\n"
          ],
          "name": "stdout"
        }
      ]
    },
    {
      "cell_type": "code",
      "metadata": {
        "id": "vzmCTKcTIPtM"
      },
      "source": [
        "import torch\r\n",
        "from transformers import AutoModelWithLMHead, AutoTokenizer, AdamW, get_linear_schedule_with_warmup"
      ],
      "execution_count": 4,
      "outputs": []
    },
    {
      "cell_type": "code",
      "metadata": {
        "colab": {
          "base_uri": "https://localhost:8080/",
          "height": 169,
          "referenced_widgets": [
            "300cd3b56a9e4a55861a3010d195c677",
            "cb03f1eb63f94f58b4d6785f68c49779",
            "b4229c4105bc4add85ff2f941023baa4",
            "18f83dcde7fc462eb3c59129c3fc8d4a",
            "9cc42bc5c14a4986903d831f05e996a9",
            "3410dfb533da49958ec3c80117752ff5",
            "65031c16d7c74fc79457d68948107356",
            "6e51d2c41f2142d09999f815bca94266",
            "1cca49f501ff496ba712acb5ecf21e72",
            "4e48104a1390447dbf99c3f3191161dd",
            "8d807b90a57743b797d13863406040b0",
            "44b4f6945f644c4fa04ade2b6e002822",
            "981f6e3c5d704705b86679fa03a3bb54",
            "613a903d0eec44779e370da41fde27fb",
            "14e5a6bc50094aedbb96f80b618dc6ab",
            "5513cb6a39724940a52d102f26d14b49"
          ]
        },
        "id": "Fglr8lzfIR2C",
        "outputId": "318d4a43-dbe4-48a2-f85e-328e330f3f68"
      },
      "source": [
        "model = AutoModelWithLMHead.from_pretrained('sberbank-ai/rugpt3small_based_on_gpt2')"
      ],
      "execution_count": 5,
      "outputs": [
        {
          "output_type": "stream",
          "text": [
            "/usr/local/lib/python3.6/dist-packages/transformers/models/auto/modeling_auto.py:890: FutureWarning: The class `AutoModelWithLMHead` is deprecated and will be removed in a future version. Please use `AutoModelForCausalLM` for causal language models, `AutoModelForMaskedLM` for masked language models and `AutoModelForSeq2SeqLM` for encoder-decoder models.\n",
            "  FutureWarning,\n"
          ],
          "name": "stderr"
        },
        {
          "output_type": "display_data",
          "data": {
            "application/vnd.jupyter.widget-view+json": {
              "model_id": "300cd3b56a9e4a55861a3010d195c677",
              "version_minor": 0,
              "version_major": 2
            },
            "text/plain": [
              "HBox(children=(FloatProgress(value=0.0, description='Downloading', max=608.0, style=ProgressStyle(description_…"
            ]
          },
          "metadata": {
            "tags": []
          }
        },
        {
          "output_type": "stream",
          "text": [
            "\n"
          ],
          "name": "stdout"
        },
        {
          "output_type": "display_data",
          "data": {
            "application/vnd.jupyter.widget-view+json": {
              "model_id": "1cca49f501ff496ba712acb5ecf21e72",
              "version_minor": 0,
              "version_major": 2
            },
            "text/plain": [
              "HBox(children=(FloatProgress(value=0.0, description='Downloading', max=551290714.0, style=ProgressStyle(descri…"
            ]
          },
          "metadata": {
            "tags": []
          }
        },
        {
          "output_type": "stream",
          "text": [
            "\n"
          ],
          "name": "stdout"
        }
      ]
    },
    {
      "cell_type": "code",
      "metadata": {
        "colab": {
          "base_uri": "https://localhost:8080/",
          "height": 132,
          "referenced_widgets": [
            "b631afba533e4e23a9671a4aa6a4c3b3",
            "bca5f545cca24ad3b8badd080a65eaa2",
            "06c82f1e05d44099aec923d19e505f7a",
            "4b5bab4e78ac4d5fba657bae6c742d56",
            "1060a7d3eb6a4f47a92e0fc33ca89135",
            "7b5778c0ae154cfb8bb33ea3833f8e6c",
            "4d5ead53e37c4118b3894cd4f8333389",
            "27c202ff6f024d0db235b20707d68d50",
            "a351b1e9c49b4f42a69bcbb582e79293",
            "9cfc709573bd4df3b8e44a4cb18216dc",
            "a46b9abe56ac4756b1199571312d540c",
            "fee854dd50cf4ef58a4db08c1df327c3",
            "cc901ea476af412c9887469b280729e3",
            "da495d0eb8ed4879aec9e7d220f5dad3",
            "711fe96eb06a4dd3be72089f39a5f6be",
            "597b1623d7c34536b36ae599193f7791"
          ]
        },
        "id": "L-Mwq02JJP4Q",
        "outputId": "8b61e87a-00e6-4a55-fdba-0cf5cd6c7064"
      },
      "source": [
        "tokenizer = AutoTokenizer.from_pretrained('sberbank-ai/rugpt3small_based_on_gpt2')"
      ],
      "execution_count": 6,
      "outputs": [
        {
          "output_type": "display_data",
          "data": {
            "application/vnd.jupyter.widget-view+json": {
              "model_id": "b631afba533e4e23a9671a4aa6a4c3b3",
              "version_minor": 0,
              "version_major": 2
            },
            "text/plain": [
              "HBox(children=(FloatProgress(value=0.0, description='Downloading', max=1713123.0, style=ProgressStyle(descript…"
            ]
          },
          "metadata": {
            "tags": []
          }
        },
        {
          "output_type": "stream",
          "text": [
            "\n"
          ],
          "name": "stdout"
        },
        {
          "output_type": "display_data",
          "data": {
            "application/vnd.jupyter.widget-view+json": {
              "model_id": "a351b1e9c49b4f42a69bcbb582e79293",
              "version_minor": 0,
              "version_major": 2
            },
            "text/plain": [
              "HBox(children=(FloatProgress(value=0.0, description='Downloading', max=1270925.0, style=ProgressStyle(descript…"
            ]
          },
          "metadata": {
            "tags": []
          }
        },
        {
          "output_type": "stream",
          "text": [
            "\n"
          ],
          "name": "stdout"
        },
        {
          "output_type": "stream",
          "text": [
            "Special tokens have been added in the vocabulary, make sure the associated word embedding are fine-tuned or trained.\n"
          ],
          "name": "stderr"
        }
      ]
    },
    {
      "cell_type": "markdown",
      "metadata": {
        "id": "8Duc8hGOZH9-"
      },
      "source": [
        "##Подготовка данных"
      ]
    },
    {
      "cell_type": "markdown",
      "metadata": {
        "id": "40DBMuq4Wzyl"
      },
      "source": [
        "Данные для обучения - датасет из примерно 44400 стихотворений, для каждого стихотворения известен год написания, стихотворения длиной не более 100 строчек.\r\n",
        "В качестве условия для генерации я решила использовать век написания каждого стихотворения, рассчитывая что в итоге стихи сгенерированные для разных веков будут выглядеть по-разному\r\n"
      ]
    },
    {
      "cell_type": "code",
      "metadata": {
        "id": "aUqMm_zBoG7k"
      },
      "source": [
        "from torch.utils.data import Dataset, random_split, DataLoader, RandomSampler, SequentialSampler"
      ],
      "execution_count": null,
      "outputs": []
    },
    {
      "cell_type": "code",
      "metadata": {
        "id": "oC_JjVR1onPS"
      },
      "source": [
        "import pandas as pd\r\n",
        "from tqdm import tqdm\r\n",
        "import numpy as np\r\n",
        "import random\r\n",
        "import json"
      ],
      "execution_count": 37,
      "outputs": []
    },
    {
      "cell_type": "code",
      "metadata": {
        "colab": {
          "base_uri": "https://localhost:8080/"
        },
        "id": "xSGRN3Auop_i",
        "outputId": "7d591a01-dc5f-4daa-e9e8-b5fe0ef1421a"
      },
      "source": [
        "from google.colab import drive\r\n",
        "drive.mount('/content/drive')"
      ],
      "execution_count": 13,
      "outputs": [
        {
          "output_type": "stream",
          "text": [
            "Mounted at /content/drive\n"
          ],
          "name": "stdout"
        }
      ]
    },
    {
      "cell_type": "code",
      "metadata": {
        "id": "s1VAqzfspLQ7"
      },
      "source": [
        "home_dir = 'drive/My Drive/GPT/'"
      ],
      "execution_count": 35,
      "outputs": []
    },
    {
      "cell_type": "code",
      "metadata": {
        "id": "SDM9N2BMpSfU"
      },
      "source": [
        "df = pd.read_csv(home_dir + 'Poems.csv').dropna()"
      ],
      "execution_count": 38,
      "outputs": []
    },
    {
      "cell_type": "code",
      "metadata": {
        "colab": {
          "base_uri": "https://localhost:8080/"
        },
        "id": "9mOElMlD4hdl",
        "outputId": "3611d851-98b9-426e-e613-ee06f78ca03c"
      },
      "source": [
        "df.shape"
      ],
      "execution_count": null,
      "outputs": [
        {
          "output_type": "execute_result",
          "data": {
            "text/plain": [
              "(44402, 2)"
            ]
          },
          "metadata": {
            "tags": []
          },
          "execution_count": 90
        }
      ]
    },
    {
      "cell_type": "code",
      "metadata": {
        "id": "sxTVRVOGvvES"
      },
      "source": [
        "def cent(year):\r\n",
        "    return int(str(year)[:2]) +1"
      ],
      "execution_count": 39,
      "outputs": []
    },
    {
      "cell_type": "code",
      "metadata": {
        "id": "CDMMQzYUvw6Z"
      },
      "source": [
        "df['century'] = df['date'].apply(cent)"
      ],
      "execution_count": 40,
      "outputs": []
    },
    {
      "cell_type": "code",
      "metadata": {
        "id": "9xQwn7xR5Pi7"
      },
      "source": [
        "df = df.sample(frac=1).reset_index(drop=True)"
      ],
      "execution_count": 16,
      "outputs": []
    },
    {
      "cell_type": "code",
      "metadata": {
        "colab": {
          "base_uri": "https://localhost:8080/",
          "height": 204
        },
        "id": "q-aDC52ZrfrP",
        "outputId": "22e6c051-a6b5-41ed-f514-ec08db9fc4e7"
      },
      "source": [
        "df.head()"
      ],
      "execution_count": 18,
      "outputs": [
        {
          "output_type": "execute_result",
          "data": {
            "text/html": [
              "<div>\n",
              "<style scoped>\n",
              "    .dataframe tbody tr th:only-of-type {\n",
              "        vertical-align: middle;\n",
              "    }\n",
              "\n",
              "    .dataframe tbody tr th {\n",
              "        vertical-align: top;\n",
              "    }\n",
              "\n",
              "    .dataframe thead th {\n",
              "        text-align: right;\n",
              "    }\n",
              "</style>\n",
              "<table border=\"1\" class=\"dataframe\">\n",
              "  <thead>\n",
              "    <tr style=\"text-align: right;\">\n",
              "      <th></th>\n",
              "      <th>poem</th>\n",
              "      <th>date</th>\n",
              "      <th>century</th>\n",
              "    </tr>\n",
              "  </thead>\n",
              "  <tbody>\n",
              "    <tr>\n",
              "      <th>0</th>\n",
              "      <td>Во мраке безрадостном ночи,\\nДушевной больной ...</td>\n",
              "      <td>1903</td>\n",
              "      <td>20</td>\n",
              "    </tr>\n",
              "    <tr>\n",
              "      <th>1</th>\n",
              "      <td>Тянется собранье, длятся пренья ...\\nИ когда о...</td>\n",
              "      <td>1957</td>\n",
              "      <td>20</td>\n",
              "    </tr>\n",
              "    <tr>\n",
              "      <th>2</th>\n",
              "      <td>Сквозь зеленые буки желтеют чужие поля.\\nЧереп...</td>\n",
              "      <td>1923</td>\n",
              "      <td>20</td>\n",
              "    </tr>\n",
              "    <tr>\n",
              "      <th>3</th>\n",
              "      <td>Там, где картинно обгибая\\nБрега, одетые в гра...</td>\n",
              "      <td>1831</td>\n",
              "      <td>19</td>\n",
              "    </tr>\n",
              "    <tr>\n",
              "      <th>4</th>\n",
              "      <td>Хлеб от земли, а голод от людей:\\nЗасеяли расс...</td>\n",
              "      <td>1923</td>\n",
              "      <td>20</td>\n",
              "    </tr>\n",
              "  </tbody>\n",
              "</table>\n",
              "</div>"
            ],
            "text/plain": [
              "                                                poem  date  century\n",
              "0  Во мраке безрадостном ночи,\\nДушевной больной ...  1903       20\n",
              "1  Тянется собранье, длятся пренья ...\\nИ когда о...  1957       20\n",
              "2  Сквозь зеленые буки желтеют чужие поля.\\nЧереп...  1923       20\n",
              "3  Там, где картинно обгибая\\nБрега, одетые в гра...  1831       19\n",
              "4  Хлеб от земли, а голод от людей:\\nЗасеяли расс...  1923       20"
            ]
          },
          "metadata": {
            "tags": []
          },
          "execution_count": 18
        }
      ]
    },
    {
      "cell_type": "code",
      "metadata": {
        "id": "1hf3GCdAriCe"
      },
      "source": [
        "raw = df['poem'].to_list()\r\n",
        "cents = df['century'].to_list()"
      ],
      "execution_count": null,
      "outputs": []
    },
    {
      "cell_type": "code",
      "metadata": {
        "colab": {
          "base_uri": "https://localhost:8080/"
        },
        "id": "rdEgcKYRtKlx",
        "outputId": "f7aa0fe5-7407-402b-95b1-029d88635311"
      },
      "source": [
        "len(raw)"
      ],
      "execution_count": null,
      "outputs": [
        {
          "output_type": "execute_result",
          "data": {
            "text/plain": [
              "44402"
            ]
          },
          "metadata": {
            "tags": []
          },
          "execution_count": 55
        }
      ]
    },
    {
      "cell_type": "code",
      "metadata": {
        "id": "Cqw_G04u0sDt"
      },
      "source": [
        "toks = [tokenizer.encode(text) for text in raw]"
      ],
      "execution_count": null,
      "outputs": []
    },
    {
      "cell_type": "code",
      "metadata": {
        "colab": {
          "base_uri": "https://localhost:8080/"
        },
        "id": "S2NJPl_Q31gV",
        "outputId": "337fd26c-b73b-4a72-8ffa-55fe3ebf1600"
      },
      "source": [
        "validation_start_index = int(len(raw) * 0.1)\r\n",
        "validation_start_index"
      ],
      "execution_count": null,
      "outputs": [
        {
          "output_type": "execute_result",
          "data": {
            "text/plain": [
              "4440"
            ]
          },
          "metadata": {
            "tags": []
          },
          "execution_count": 38
        }
      ]
    },
    {
      "cell_type": "code",
      "metadata": {
        "colab": {
          "base_uri": "https://localhost:8080/"
        },
        "id": "lZSllss50l6G",
        "outputId": "38dca9fb-6ff1-4b52-ad68-f80fd899f846"
      },
      "source": [
        "train_lengths = [len(tok) for tok in tqdm(toks)]"
      ],
      "execution_count": null,
      "outputs": [
        {
          "output_type": "stream",
          "text": [
            "100%|██████████| 44402/44402 [00:00<00:00, 2152339.57it/s]\n"
          ],
          "name": "stderr"
        }
      ]
    },
    {
      "cell_type": "code",
      "metadata": {
        "colab": {
          "base_uri": "https://localhost:8080/"
        },
        "id": "9dl1tSe21Ygp",
        "outputId": "2fa8a3a9-906a-47da-d3f9-7b17277fe333"
      },
      "source": [
        "np.percentile(train_lengths, 95)"
      ],
      "execution_count": null,
      "outputs": [
        {
          "output_type": "execute_result",
          "data": {
            "text/plain": [
              "506.0"
            ]
          },
          "metadata": {
            "tags": []
          },
          "execution_count": 44
        }
      ]
    },
    {
      "cell_type": "markdown",
      "metadata": {
        "id": "5MgLp5pSW8K8"
      },
      "source": [
        "К сожалению при попытке создавать батчи из нескольких стихотворений происходила ошибка Cuda out of memory, поэтому пришлось обучаться по каждому стихотворению отдельно (т.е. batch_size = 1), поэтому паддинги я в итоге не использовала\r\n"
      ]
    },
    {
      "cell_type": "code",
      "metadata": {
        "id": "4I4mibnPqFRv"
      },
      "source": [
        "batch_size = 1\r\n",
        "max_len = 500\r\n",
        "pad_index = 50258\r\n",
        "boc_index = 50259\r\n",
        "eoc_index = 50260"
      ],
      "execution_count": null,
      "outputs": []
    },
    {
      "cell_type": "code",
      "metadata": {
        "colab": {
          "base_uri": "https://localhost:8080/"
        },
        "id": "M5v3CE-4zNI1",
        "outputId": "4013f035-8e98-470c-d756-c87bbf2f459c"
      },
      "source": [
        "tokenizer.add_special_tokens({'additional_special_tokens':['[PAD]', '[BOC]', '[EOC]']})"
      ],
      "execution_count": 7,
      "outputs": [
        {
          "output_type": "execute_result",
          "data": {
            "text/plain": [
              "3"
            ]
          },
          "metadata": {
            "tags": []
          },
          "execution_count": 7
        }
      ]
    },
    {
      "cell_type": "code",
      "metadata": {
        "id": "m9bB0xcBwoWN"
      },
      "source": [
        "class PoetryDataset(Dataset):\r\n",
        "    \r\n",
        "    def __init__(self, texts, cents, tokenizer, max_length):\r\n",
        "        \r\n",
        "        \r\n",
        "        self.tokenizer = tokenizer\r\n",
        "        self.texts = texts\r\n",
        "        self.cents = cents\r\n",
        "\r\n",
        "        self.max_len = max_length\r\n",
        "\r\n",
        "    def __len__(self):        \r\n",
        "        return len(self.texts)\r\n",
        "    \r\n",
        "    def __getitem__(self, index):\r\n",
        "        \r\n",
        "        text = self.texts[index]\r\n",
        "        cent = self.cents[index]\r\n",
        "        text = f'[BOC]{cent}[EOC]{text}'\r\n",
        "        \r\n",
        "        enc_dict = tokenizer(text, truncation=True, max_length=self.max_len)\r\n",
        "        tokenized = enc_dict['input_ids']\r\n",
        "        \r\n",
        "        return torch.tensor(tokenized).long()"
      ],
      "execution_count": null,
      "outputs": []
    },
    {
      "cell_type": "code",
      "metadata": {
        "colab": {
          "base_uri": "https://localhost:8080/"
        },
        "id": "6s5yBNRF0rXr",
        "outputId": "62bbd31d-0cdc-46f8-c9dd-e9701799d26f"
      },
      "source": [
        "poems_train = PoetryDataset(raw[:-validation_start_index], cents[:-validation_start_index], tokenizer, max_len)\r\n",
        "poems_valid = PoetryDataset(raw[-validation_start_index:], cents[-validation_start_index:],tokenizer, max_len)\r\n",
        "\r\n",
        "len(poems_train), len(poems_valid)"
      ],
      "execution_count": null,
      "outputs": [
        {
          "output_type": "execute_result",
          "data": {
            "text/plain": [
              "(39962, 4440)"
            ]
          },
          "metadata": {
            "tags": []
          },
          "execution_count": 99
        }
      ]
    },
    {
      "cell_type": "code",
      "metadata": {
        "colab": {
          "base_uri": "https://localhost:8080/"
        },
        "id": "tjtGbWOR6aAS",
        "outputId": "6f88ae13-c913-4359-cd19-4b23df3c233e"
      },
      "source": [
        "poems_train[33333]"
      ],
      "execution_count": null,
      "outputs": [
        {
          "output_type": "execute_result",
          "data": {
            "text/plain": [
              "tensor([50259,  2932, 50260,  4348,   281,  5557,   466,   306,  4144, 27895,\n",
              "          203,   677, 22914,   680, 21696,    16,   203,  3693, 37938,   670,\n",
              "        31280,   203,  1009,   826,   277,   290, 10453,   404,    18,   203,\n",
              "         6039, 17921, 20549,  1224,   203,   563,  3583,   285,  9201,   581,\n",
              "        13734,    18,   203,   618,   282, 14854,  6237, 10135, 37207,   282,\n",
              "        10764,    16,   203,  3693, 20789,   830,  1604,   484, 23149,    18,\n",
              "          203,  1098,  8371, 23678,  2356, 10657,   454,   305,   203,  2176,\n",
              "        49949, 17055,   933, 43441,    16,   203, 21037,  1071,  3978,  6996,\n",
              "          328,  1788,    16,   203,   677,   328,   303,   770,  6050,   282,\n",
              "         3978,  4533,    18,   203, 20377,  5576,  2028,   770, 18673,    16,\n",
              "          203, 24860,    16,   322, 38661,   417,  3069,   203, 49932,  1886,\n",
              "          557,  3792,   520,   357,   406,   203,   684,  3822,   548, 39139,\n",
              "          416,  6456,    31,   203,  4529,  1271, 25268,  1211,  4806,   613,\n",
              "          203,  3096,  3205,   282,  2411,  1873,  6823,  3069,   203,  5801,\n",
              "         1800,   784,  1811,  9496,   203,   822,   897,   416,  5426,   282,\n",
              "        16434, 21607,    35])"
            ]
          },
          "metadata": {
            "tags": []
          },
          "execution_count": 100
        }
      ]
    },
    {
      "cell_type": "code",
      "metadata": {
        "id": "kn54bUoV1Pf8"
      },
      "source": [
        "train_loader = DataLoader(poems_train,\r\n",
        "                          batch_size=batch_size,\r\n",
        "                              shuffle=True)\r\n",
        "\r\n",
        "validation_loader = DataLoader(poems_valid,\r\n",
        "                            batch_size=batch_size,\r\n",
        "                            shuffle=True)"
      ],
      "execution_count": null,
      "outputs": []
    },
    {
      "cell_type": "markdown",
      "metadata": {
        "id": "zMxlVn2XnvuE"
      },
      "source": [
        "### Обучение"
      ]
    },
    {
      "cell_type": "code",
      "metadata": {
        "id": "gNfVxicOp44t"
      },
      "source": [
        "device = 'cuda'"
      ],
      "execution_count": 10,
      "outputs": []
    },
    {
      "cell_type": "code",
      "metadata": {
        "id": "6pTrRVKVpkj1"
      },
      "source": [
        "num_epochs = 3"
      ],
      "execution_count": null,
      "outputs": []
    },
    {
      "cell_type": "code",
      "metadata": {
        "id": "eU_2DrA6n7cg"
      },
      "source": [
        "learning_rate = 0.0001\r\n",
        "warmup_steps = 50\r\n",
        "total_steps = len(train_loader) * num_epochs"
      ],
      "execution_count": null,
      "outputs": []
    },
    {
      "cell_type": "code",
      "metadata": {
        "id": "ueTrzoGOny2J"
      },
      "source": [
        "optimizer = AdamW(model.parameters(), lr=learning_rate)"
      ],
      "execution_count": null,
      "outputs": []
    },
    {
      "cell_type": "code",
      "metadata": {
        "id": "xZXZtSWXooUz"
      },
      "source": [
        "scheduler = get_linear_schedule_with_warmup(optimizer,\r\n",
        "                                            num_warmup_steps=warmup_steps,\r\n",
        "                                            num_training_steps=total_steps)"
      ],
      "execution_count": null,
      "outputs": []
    },
    {
      "cell_type": "code",
      "metadata": {
        "colab": {
          "base_uri": "https://localhost:8080/"
        },
        "id": "kRLYFTv_yh6z",
        "outputId": "5609d975-7c43-4048-ff13-0453fcc6b826"
      },
      "source": [
        "model.resize_token_embeddings(len(tokenizer))"
      ],
      "execution_count": 8,
      "outputs": [
        {
          "output_type": "execute_result",
          "data": {
            "text/plain": [
              "Embedding(50261, 768)"
            ]
          },
          "metadata": {
            "tags": []
          },
          "execution_count": 8
        }
      ]
    },
    {
      "cell_type": "code",
      "metadata": {
        "id": "xelRGrn1pymW"
      },
      "source": [
        "model = model.to(device)"
      ],
      "execution_count": 11,
      "outputs": []
    },
    {
      "cell_type": "code",
      "metadata": {
        "id": "Q4QTAKpsqm7f"
      },
      "source": [
        "def train(model, loader, optimizer, scheduler, last_n_losses=200, verbose=True):\r\n",
        "\r\n",
        "    losses = []\r\n",
        "\r\n",
        "    progress_bar = tqdm(total=len(loader.dataset), disable=not verbose, desc='Train')\r\n",
        "\r\n",
        "    model.train()\r\n",
        "\r\n",
        "    for toks in loader:\r\n",
        "\r\n",
        "        toks = toks.to(device)\r\n",
        "        \r\n",
        "        outputs = model(toks,\r\n",
        "                        labels=toks\r\n",
        "                        )\r\n",
        "        loss = outputs[0]\r\n",
        "        losses.append(loss.item())\r\n",
        "\r\n",
        "        optimizer.zero_grad()\r\n",
        "        loss.backward()\r\n",
        "        optimizer.step()\r\n",
        "        scheduler.step()\r\n",
        "\r\n",
        "        progress_bar.set_postfix(loss=np.mean(losses[-last_n_losses:]),\r\n",
        "                                 perplexity=np.exp(np.mean(losses[-last_n_losses:])))\r\n",
        "        \r\n",
        "        progress_bar.update()\r\n",
        "\r\n",
        "    progress_bar.close()\r\n",
        "    \r\n",
        "    return losses\r\n",
        "\r\n",
        "    "
      ],
      "execution_count": null,
      "outputs": []
    },
    {
      "cell_type": "code",
      "metadata": {
        "id": "lxQttSgiuUQs"
      },
      "source": [
        "def evaluate(model, loader, last_n_losses=200, verbose=True):\r\n",
        "\r\n",
        "    losses = []\r\n",
        "\r\n",
        "    progress_bar = tqdm(total=len(loader), disable=not verbose, desc='Evaluate')\r\n",
        "\r\n",
        "    model.eval()\r\n",
        "\r\n",
        "    for toks in loader:\r\n",
        "\r\n",
        "        toks = toks.to(device)\r\n",
        "        \r\n",
        "        outputs = model(toks,\r\n",
        "                        labels=toks\r\n",
        "                        )\r\n",
        "        loss = outputs[0]\r\n",
        "        losses.append(loss.item())\r\n",
        "\r\n",
        "        progress_bar.set_postfix(loss=np.mean(losses[-last_n_losses:]),\r\n",
        "                                 perplexity=np.exp(np.mean(losses[-last_n_losses:])))\r\n",
        "        \r\n",
        "        progress_bar.update()\r\n",
        "\r\n",
        "    progress_bar.close()\r\n",
        "    \r\n",
        "    return losses"
      ],
      "execution_count": null,
      "outputs": []
    },
    {
      "cell_type": "code",
      "metadata": {
        "id": "X2oCx2-kxQ-n"
      },
      "source": [
        "save_best_model_path = '/content/drive/My Drive/GPT/mod/best_model_state_dict.pth'\r\n",
        "save_best_optimizer_path = '/content/drive/My Drive/GPT/mod/best_optimizer_state_dict.pth'\r\n",
        "save_last_model_path = '/content/drive/My Drive/GPT/mod/last_model_state_dict.pth'\r\n",
        "save_last_optimizer_path = '/content/drive/My Drive/GPT/mod/last_optimizer_state_dict.pth'"
      ],
      "execution_count": null,
      "outputs": []
    },
    {
      "cell_type": "code",
      "metadata": {
        "id": "ZaxELJN2vU-s"
      },
      "source": [
        "#tqdm._instances.clear()"
      ],
      "execution_count": null,
      "outputs": []
    },
    {
      "cell_type": "code",
      "metadata": {
        "colab": {
          "base_uri": "https://localhost:8080/"
        },
        "id": "pc1xSvtKv9Wm",
        "outputId": "a7ae60f2-82fe-4543-ff45-8274af20844d"
      },
      "source": [
        "train_losses = []\r\n",
        "validation_losses = []\r\n",
        "\r\n",
        "train_perplexities = []\r\n",
        "validation_perplexities = []\r\n",
        "\r\n",
        "best_validation_loss = 1e+6\r\n",
        "\r\n",
        "for n_epoch in range(1, num_epochs + 1):\r\n",
        "    \r\n",
        "    epoch_train_losses = train(model, train_loader, optimizer, scheduler)\r\n",
        "    epoch_validation_losses = evaluate(model, validation_loader)\r\n",
        "    \r\n",
        "    mean_train_loss = np.mean(epoch_train_losses)\r\n",
        "    mean_validation_loss = np.mean(epoch_validation_losses)\r\n",
        "    \r\n",
        "    train_losses.extend(epoch_train_losses)\r\n",
        "    train_perplexities.append(np.exp(mean_train_loss))\r\n",
        "    \r\n",
        "    validation_losses.extend(epoch_validation_losses)\r\n",
        "    validation_perplexities.append(np.exp(mean_validation_loss))\r\n",
        "    \r\n",
        "    message = f'Epoch: {n_epoch}\\n'\r\n",
        "    message += f'Train: loss - {mean_train_loss:.4f} | perplexity - {train_perplexities[-1]:.3f}\\n'\r\n",
        "    message += f'Validation: loss - {mean_validation_loss:.4f} | perplexity - {validation_perplexities[-1]:.3f}'\r\n",
        "    \r\n",
        "    print(message)\r\n",
        "    \r\n",
        "    if mean_validation_loss < best_validation_loss:\r\n",
        "        \r\n",
        "        best_validation_loss = mean_validation_loss\r\n",
        "        \r\n",
        "        torch.save(model.state_dict(), save_best_model_path)\r\n",
        "        torch.save(optimizer.state_dict(), save_best_optimizer_path)\r\n",
        "        \r\n",
        "    else:\r\n",
        "        break\r\n",
        "        \r\n",
        "    torch.save(model.state_dict(), save_last_model_path)\r\n",
        "    torch.save(optimizer.state_dict(), save_last_optimizer_path)\r\n",
        "\r\n",
        "    with open(home_dir + f'info_{n_epoch}.json', 'w') as file_object:\r\n",
        "\r\n",
        "        info = {\r\n",
        "            'message': message,\r\n",
        "            'train_losses': train_losses,\r\n",
        "            'validation_losses': validation_losses,\r\n",
        "            'train_perplexities': train_perplexities,\r\n",
        "            'validation_perplexities': validation_perplexities\r\n",
        "        }\r\n",
        "\r\n",
        "        file_object.write(json.dumps(info, indent=2))"
      ],
      "execution_count": null,
      "outputs": [
        {
          "output_type": "stream",
          "text": [
            "Train: 100%|██████████| 39962/39962 [1:09:37<00:00,  9.57it/s, loss=3.92, perplexity=50.6]\n",
            "Evaluate: 100%|██████████| 4440/4440 [01:59<00:00, 37.03it/s, loss=3.81, perplexity=45.4]\n"
          ],
          "name": "stderr"
        },
        {
          "output_type": "stream",
          "text": [
            "Epoch: 1\n",
            "Train: loss - 4.0246 | perplexity - 55.958\n",
            "Validation: loss - 3.7932 | perplexity - 44.396\n"
          ],
          "name": "stdout"
        },
        {
          "output_type": "stream",
          "text": [
            "Train: 100%|██████████| 39962/39962 [1:09:24<00:00,  9.60it/s, loss=3.6, perplexity=36.6]\n",
            "Evaluate: 100%|██████████| 4440/4440 [01:59<00:00, 37.16it/s, loss=3.66, perplexity=38.8]\n"
          ],
          "name": "stderr"
        },
        {
          "output_type": "stream",
          "text": [
            "Epoch: 2\n",
            "Train: loss - 3.6460 | perplexity - 38.319\n",
            "Validation: loss - 3.6657 | perplexity - 39.085\n"
          ],
          "name": "stdout"
        },
        {
          "output_type": "stream",
          "text": [
            "Train: 100%|██████████| 39962/39962 [1:09:02<00:00,  9.65it/s, loss=3.29, perplexity=26.9]\n",
            "Evaluate: 100%|██████████| 4440/4440 [01:57<00:00, 37.68it/s, loss=3.71, perplexity=41]\n"
          ],
          "name": "stderr"
        },
        {
          "output_type": "stream",
          "text": [
            "Epoch: 3\n",
            "Train: loss - 3.3325 | perplexity - 28.008\n",
            "Validation: loss - 3.6475 | perplexity - 38.378\n"
          ],
          "name": "stdout"
        }
      ]
    },
    {
      "cell_type": "markdown",
      "metadata": {
        "id": "auEeU2eqTkps"
      },
      "source": [
        "### Генерация"
      ]
    },
    {
      "cell_type": "code",
      "metadata": {
        "id": "Nt1vJdUrUxmY"
      },
      "source": [
        "model.load_state_dict(torch.load('/content/drive/My Drive/GPT/mod/best_model_state_dict.pth'))\r\n",
        "optimizer.load_state_dict(torch.load('/content/drive/My Drive/GPT/mod/best_optimizer_state_dict.pth'))"
      ],
      "execution_count": null,
      "outputs": []
    },
    {
      "cell_type": "code",
      "metadata": {
        "id": "3hBS-H_H4ZLU"
      },
      "source": [
        "def write_poem(century, snippet, length, tokenizer, model):\r\n",
        "    input_text = f'[BOC]{century}[EOC]{snippet}'\r\n",
        "    inds = tokenizer(input_text, return_tensors='pt')['input_ids'].to(device)\r\n",
        "    text = model.generate(\r\n",
        "        input_ids=inds,\r\n",
        "        max_length=length + len(inds),\r\n",
        "        do_sample=True,\r\n",
        "        no_repeat_ngram_size=20,\r\n",
        "        pad_token_id = 50258\r\n",
        "        )\r\n",
        "    poem = tokenizer.decode(text[0])\r\n",
        "    poem = poem.strip(f'[BOC]{century}[EOC]')\r\n",
        "    return poem\r\n",
        "    "
      ],
      "execution_count": 15,
      "outputs": []
    },
    {
      "cell_type": "markdown",
      "metadata": {
        "id": "rwl16mfPWVvV"
      },
      "source": [
        "Пример генерации стихотворений с одним и тем же началом, но для разных веков:"
      ]
    },
    {
      "cell_type": "code",
      "metadata": {
        "colab": {
          "base_uri": "https://localhost:8080/"
        },
        "id": "ORK8TrYjVXCW",
        "outputId": "4b31a546-ac7c-49f9-a880-9d6ed0d418ec"
      },
      "source": [
        "poem = write_poem(18, 'Вечер пришел и стало темно', 100, tokenizer, model)\r\n",
        "print(poem)"
      ],
      "execution_count": 18,
      "outputs": [
        {
          "output_type": "stream",
          "text": [
            "Вечер пришел и стало темно,\n",
            "И над нами с облаков\n",
            "Осенний свет вечерней порою\n",
            "Уж светит в поле золотистом;\n",
            "И о чем же ты, о небо,\n",
            "Очи своих сияющих дней\n",
            "Сияньем звезд своих кажешься\n",
            "И в облаке, в облаке своем?\n",
            "О, не то -- я слышу голос твой,\n",
            "Твой голос в тишине ночной,\n",
            "И с твоих небес ясных и чистых\n",
            "Навсегда\n"
          ],
          "name": "stdout"
        }
      ]
    },
    {
      "cell_type": "code",
      "metadata": {
        "colab": {
          "base_uri": "https://localhost:8080/"
        },
        "id": "AgSzmrj4Vp_4",
        "outputId": "1a6afb96-020e-49a0-ebf2-afe99e584ad5"
      },
      "source": [
        "poem = write_poem(19, 'Вечер пришел и стало темно', 100, tokenizer, model)\r\n",
        "print(poem)"
      ],
      "execution_count": 19,
      "outputs": [
        {
          "output_type": "stream",
          "text": [
            "Вечер пришел и стало темно,\n",
            "Узорь заката так черна.\n",
            "Мы в дальнюю даль взглянули робко.\n",
            "И вот нам на земле темно.\n",
            "Кто там с улыбкою сидит?\n",
            "Кто играет на ветке белой?\n",
            "Кто, смеясь и плача над нами,\n",
            "Говорит, грустя и плача?\n",
            "И нам показалось, что давно\n",
            "Смотрел в окно над водой,\n",
            "Что здесь на земле темно.\n",
            "Глядя в глаза\n"
          ],
          "name": "stdout"
        }
      ]
    },
    {
      "cell_type": "code",
      "metadata": {
        "colab": {
          "base_uri": "https://localhost:8080/"
        },
        "id": "fU0fwxNeVtds",
        "outputId": "0893249b-988e-420a-d50b-02e4bfadc99c"
      },
      "source": [
        "poem = write_poem(20, 'Вечер пришел и стало темно', 100, tokenizer, model)\r\n",
        "print(poem)"
      ],
      "execution_count": 23,
      "outputs": [
        {
          "output_type": "stream",
          "text": [
            "Вечер пришел и стало темно,\n",
            "И мы глядим, как в углу\n",
            "Шуршит, как на листке, книжка,\n",
            "Разворачивая лисьи свитки.\n",
            "Какие звезды светят\n",
            "В глазах у нас, у других!\n",
            "Уж ночь опустилась низко,\n",
            "Как в темень прошлого века.\n",
            "В этом, пожалуй, не надо\n",
            "Ни горя, ни счастья иного,\n",
            "Ни смерти мучительной --\n",
            "Пора бы уже спать!\n",
            "Но этот\n"
          ],
          "name": "stdout"
        }
      ]
    },
    {
      "cell_type": "code",
      "metadata": {
        "colab": {
          "base_uri": "https://localhost:8080/"
        },
        "id": "PC_pr9pzV_CX",
        "outputId": "2ef9bee6-0bd7-4cf0-9ff4-f9e8e24ac7b7"
      },
      "source": [
        "poem = write_poem(21, 'Вечер пришел и стало темно', 100, tokenizer, model)\r\n",
        "print(poem)"
      ],
      "execution_count": 26,
      "outputs": [
        {
          "output_type": "stream",
          "text": [
            "Вечер пришел и стало темно:\n",
            "В небе зной, и тишина,\n",
            "И тихо качаюсь, как сна птица,\n",
            "Качаемая ветром.\n",
            "Это было, казалось, давно.\n",
            "Тени прошлого так свежи,\n",
            "Так прозрачны, что даже не знакомы,\n",
            "Эти люди, что так близко к смерти.\n",
            "Простившись, мы прошли до вокзала\n",
            "И не вспомнили, зачем,\n",
            "Стали думать: всё это было,\n",
            "Вот он пройдет и\n"
          ],
          "name": "stdout"
        }
      ]
    },
    {
      "cell_type": "markdown",
      "metadata": {
        "id": "o35SfUvoaPzL"
      },
      "source": [
        "В итоге сложно проследить какие-то явные отличия между стихами для разных веков. Возможно отчасти это связано с тем, что соотношение количества стихов по векам в датасете было неравным (например, всего лишь 41 стихотворение для 21 века). К тому же в получившихся стихах почти никогда нет рифмы"
      ]
    },
    {
      "cell_type": "code",
      "metadata": {
        "colab": {
          "base_uri": "https://localhost:8080/"
        },
        "id": "VZv_1tkjZrJu",
        "outputId": "ff852786-4544-46ca-d787-6f3c5c7fe56b"
      },
      "source": [
        "df['century'].value_counts()"
      ],
      "execution_count": 43,
      "outputs": [
        {
          "output_type": "execute_result",
          "data": {
            "text/plain": [
              "20    32344\n",
              "19    11605\n",
              "18      412\n",
              "21       41\n",
              "Name: century, dtype: int64"
            ]
          },
          "metadata": {
            "tags": []
          },
          "execution_count": 43
        }
      ]
    },
    {
      "cell_type": "markdown",
      "metadata": {
        "id": "QlKWBccGaXJk"
      },
      "source": [
        "Интересно, однако, что в итоге модель при генерации умеет подстраиваться под длину строки (то есть генерирует строки примерно одинакового размера на протяжении всего стихотворения)"
      ]
    },
    {
      "cell_type": "code",
      "metadata": {
        "colab": {
          "base_uri": "https://localhost:8080/"
        },
        "id": "CBEJpM2gatPT",
        "outputId": "23ed20c0-f2f9-4434-f2fa-f9ad786d6432"
      },
      "source": [
        "poem = write_poem(20, 'Вот дом, а вот окно, из которого я глядел когда-то', 100, tokenizer, model)\r\n",
        "print(poem)"
      ],
      "execution_count": 54,
      "outputs": [
        {
          "output_type": "stream",
          "text": [
            "Вот дом, а вот окно, из которого я глядел когда-то на нее.\n",
            "Здесь жили те, кто не были, а жили те, что когда-то я увидал ее и сейчас.\n",
            "Потускнели от слез и печали ее яркие щеки,\n",
            "Но глаза ее были как живые; так в ясном небе ясно ей,\n",
            "Что в небе ясно виделась ей она: на груди ее я стоял и дрожал.\n",
            "Я понял ее давно, но было поздно:\n"
          ],
          "name": "stdout"
        }
      ]
    },
    {
      "cell_type": "code",
      "metadata": {
        "colab": {
          "base_uri": "https://localhost:8080/"
        },
        "id": "vua8BmC1Z62D",
        "outputId": "242fe9e1-8296-4712-d5bc-1e04be752edc"
      },
      "source": [
        "poem = write_poem(20, 'Вот дом\\nА вот окно', 60, tokenizer, model)\r\n",
        "print(poem)"
      ],
      "execution_count": 51,
      "outputs": [
        {
          "output_type": "stream",
          "text": [
            "Вот дом\n",
            "А вот окно,\n",
            "А вот и он,\n",
            "И вот\n",
            "Он весь в розах\n",
            "И в садах\n",
            "Двух деревьев,\n",
            "Вдоль по мостам,\n",
            "На двух парах,\n",
            "На тройках,\n",
            "Грустных,\n",
            "\n"
          ],
          "name": "stdout"
        }
      ]
    },
    {
      "cell_type": "markdown",
      "metadata": {
        "id": "fE04U3txbVy0"
      },
      "source": [
        "В принципе в стихотворении поддерживается тема, заданная в начале (если ввести что-то про зиму, то в стихотворении может упоминаться снег, что-то про город - улицы и машины и так далее)"
      ]
    },
    {
      "cell_type": "code",
      "metadata": {
        "colab": {
          "base_uri": "https://localhost:8080/"
        },
        "id": "nPdTJK-8ba6D",
        "outputId": "28eee046-0b0e-4ad6-8126-1a96d9b0d568"
      },
      "source": [
        "poem = write_poem(20, 'Среди лесов осенних и пустых', 100, tokenizer, model)\r\n",
        "print(poem)"
      ],
      "execution_count": 69,
      "outputs": [
        {
          "output_type": "stream",
          "text": [
            "Среди лесов осенних и пустых,\n",
            "В лесу, посреди полей пустых,\n",
            "Напоминают мне поляны старые\n",
            "Средь зеленистых ольш.\n",
            "Над долиной, над долиной, над долиной\n",
            "Чуть виден лес из облаков.\n",
            "Незабвенный, родной и прекрасный,\n",
            "Родной и близкий мне, как ты.\n",
            "Лес, как будто мертвый, -- одинокий,\n",
            "Глубже, чем на родине -- лес.\n",
            "\n"
          ],
          "name": "stdout"
        }
      ]
    },
    {
      "cell_type": "code",
      "metadata": {
        "colab": {
          "base_uri": "https://localhost:8080/"
        },
        "id": "MLQH3TzccPyB",
        "outputId": "b12fa0a9-42a4-41c3-ed86-3da8312c67fd"
      },
      "source": [
        "poem = write_poem(20, 'Не гаснет свет в твоем окне', 100, tokenizer, model)\r\n",
        "print(poem)"
      ],
      "execution_count": 71,
      "outputs": [
        {
          "output_type": "stream",
          "text": [
            "Не гаснет свет в твоем окне.\n",
            "Ты не спишь. Я смотрю туда,\n",
            "Где, как призрак, ночь таится,\n",
            "Вьется в моей руке.\n",
            "Туда, где свет лежит в окне,\n",
            "Кто не спит, чтоб не проснуться,\n",
            "И не гаснет свет в твоем окне\n",
            "На вечернем заре.\n",
            "И еще во тьме, во мгле ночи\n",
            "Увидел я твой огонь,\n",
            "Что в глаза твой взор проникал\n",
            "И вот\n"
          ],
          "name": "stdout"
        }
      ]
    },
    {
      "cell_type": "markdown",
      "metadata": {
        "id": "bwqymfC7heWz"
      },
      "source": [
        "Еще отмечу, что почему-то почти все стихи получаются грустные"
      ]
    }
  ]
}